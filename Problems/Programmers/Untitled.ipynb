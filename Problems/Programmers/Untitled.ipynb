{
 "cells": [
  {
   "cell_type": "code",
   "execution_count": 1,
   "id": "2dc429b2",
   "metadata": {},
   "outputs": [
    {
     "name": "stdout",
     "output_type": "stream",
     "text": [
      "5 10\n",
      "GOORM\n",
      "BwDcVGROOM\n",
      "BwDcVGROOM\n"
     ]
    }
   ],
   "source": [
    "def filter_string(s, e):\n",
    "    s_length = len(s)\n",
    "    e_length = len(e)\n",
    "    \n",
    "    if s_length > e_length:\n",
    "        return e\n",
    "    \n",
    "    for i in range(e_length - s_length + 1):\n",
    "        if e[i:i + s_length] == s:\n",
    "            return e[i + s_length:]\n",
    "    \n",
    "    return e\n",
    "\n",
    "length, _ = input().split()\n",
    "s = input()\n",
    "e = input()\n",
    "\n",
    "filtered = filter_string(s, e)\n",
    "print(filtered)\n"
   ]
  },
  {
   "cell_type": "code",
   "execution_count": 2,
   "id": "48c9145e",
   "metadata": {},
   "outputs": [
    {
     "name": "stdout",
     "output_type": "stream",
     "text": [
      "0 6 deposit 10 reservation 20 pay 5 deposit 10 deposit 10 reservation 6\n"
     ]
    },
    {
     "ename": "ValueError",
     "evalue": "too many values to unpack (expected 2)",
     "output_type": "error",
     "traceback": [
      "\u001b[0;31m---------------------------------------------------------------------------\u001b[0m",
      "\u001b[0;31mValueError\u001b[0m                                Traceback (most recent call last)",
      "Cell \u001b[0;32mIn[2], line 23\u001b[0m\n\u001b[1;32m     19\u001b[0m                 \u001b[38;5;28;01mpass\u001b[39;00m\n\u001b[1;32m     21\u001b[0m     \u001b[38;5;28;01mreturn\u001b[39;00m deposit\n\u001b[0;32m---> 23\u001b[0m deposit, t \u001b[38;5;241m=\u001b[39m \u001b[38;5;28minput\u001b[39m()\u001b[38;5;241m.\u001b[39msplit()\n\u001b[1;32m     24\u001b[0m \u001b[38;5;28mprint\u001b[39m(account(\u001b[38;5;28mint\u001b[39m(deposit),\u001b[38;5;28mint\u001b[39m(t)))\n",
      "\u001b[0;31mValueError\u001b[0m: too many values to unpack (expected 2)"
     ]
    }
   ],
   "source": [
    "def account(deposit, t):\n",
    "    reservation_list = []\n",
    "    \n",
    "    for cnt in range(t):\n",
    "        purpose, amount = input().split()\n",
    "        if purpose == 'deposit':\n",
    "            deposit += int(amount)\n",
    "            if len(reservation_list) > 0 and deposit > reservation_list[0]:\n",
    "                deposit -= reservation_list.pop(0)\n",
    "        elif purpose == 'reservation':\n",
    "            if deposit - int(amount) < 0 or len(reservation_list)>0:\n",
    "                reservation_list.append(int(amount))\n",
    "            else:\n",
    "                deposit -= int(amount)\n",
    "        else :\n",
    "            if deposit > int(amount):\n",
    "                deposit -= int(amount)\n",
    "            else :\n",
    "                pass\n",
    "            \n",
    "    return deposit\n",
    "    \n",
    "deposit, t = input().split()\n",
    "print(account(int(deposit),int(t)))"
   ]
  },
  {
   "cell_type": "code",
   "execution_count": null,
   "id": "e81351c8",
   "metadata": {},
   "outputs": [],
   "source": []
  }
 ],
 "metadata": {
  "kernelspec": {
   "display_name": "Python 3 (ipykernel)",
   "language": "python",
   "name": "python3"
  },
  "language_info": {
   "codemirror_mode": {
    "name": "ipython",
    "version": 3
   },
   "file_extension": ".py",
   "mimetype": "text/x-python",
   "name": "python",
   "nbconvert_exporter": "python",
   "pygments_lexer": "ipython3",
   "version": "3.10.10"
  }
 },
 "nbformat": 4,
 "nbformat_minor": 5
}
