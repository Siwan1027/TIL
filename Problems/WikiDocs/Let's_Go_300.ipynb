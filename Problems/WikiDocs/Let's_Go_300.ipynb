{
 "cells": [
  {
   "cell_type": "markdown",
   "id": "5b6402db",
   "metadata": {},
   "source": [
    "# 초보자를 위한 파이썬 300제"
   ]
  },
  {
   "cell_type": "markdown",
   "id": "ed8a67a3",
   "metadata": {},
   "source": [
    "---\n",
    "## 파이썬 시작하기\n",
    "---"
   ]
  },
  {
   "cell_type": "code",
   "execution_count": null,
   "id": "c326165d",
   "metadata": {},
   "outputs": [],
   "source": [
    "print(\"Hello World\")"
   ]
  },
  {
   "cell_type": "code",
   "execution_count": null,
   "id": "e35eda8b",
   "metadata": {},
   "outputs": [],
   "source": [
    "print(\"Mary's cosmetics\")"
   ]
  },
  {
   "cell_type": "code",
   "execution_count": null,
   "id": "6058f472",
   "metadata": {},
   "outputs": [],
   "source": [
    "print('신씨가 소리질렀다. \"도둑이야\".')"
   ]
  },
  {
   "cell_type": "code",
   "execution_count": null,
   "id": "c1616608",
   "metadata": {},
   "outputs": [],
   "source": [
    "print(\"C:/Windows\")"
   ]
  },
  {
   "cell_type": "code",
   "execution_count": null,
   "id": "a73314e6",
   "metadata": {},
   "outputs": [],
   "source": [
    "print(\"안녕하세요.\\n만나서\\t\\t반갑습니다.\")\n",
    "#\\n 은 한줄띄기(Enter), \\t는 탭 간격 띄기"
   ]
  },
  {
   "cell_type": "code",
   "execution_count": null,
   "id": "ff5ca54c",
   "metadata": {},
   "outputs": [],
   "source": [
    "print(\"오늘은\", \"일요일\")\n",
    "# 오늘은 일요일로 출력 / str형 객체가 2개 생성되어 출력됨\n",
    "# \"오늘은 일요일\" 과 같은 결과 값이다."
   ]
  },
  {
   "cell_type": "code",
   "execution_count": null,
   "id": "4148a485",
   "metadata": {},
   "outputs": [],
   "source": [
    "print(\"naver/kakao/sk/samsung\")"
   ]
  },
  {
   "cell_type": "code",
   "execution_count": null,
   "id": "be21d179",
   "metadata": {},
   "outputs": [],
   "source": [
    "print(\"fisrt\",end=(\"\"));print(\"second\")\n",
    "# ; 기호는 한줄에 여러 코드를 작성하기 위해 사용\n",
    "# 실제로는 사용되지 않는 코드 작성 기법\n",
    "# end(\"\") 메소드는 print() 메소드의 종료 시 기본값인 \"\\n\" 을 다른 문자로 바꿔줄 수 있는 메소드\n",
    "# end(\"감사합니다.\") 시 print() 함수 종료 후 \"감사합니다.\" 가 출력됨"
   ]
  },
  {
   "cell_type": "code",
   "execution_count": null,
   "id": "f1b49686",
   "metadata": {},
   "outputs": [],
   "source": [
    "print(5/3)"
   ]
  },
  {
   "cell_type": "markdown",
   "id": "6f5a9837",
   "metadata": {},
   "source": [
    "---\n",
    "## 파이썬 변수\n",
    "---"
   ]
  },
  {
   "cell_type": "code",
   "execution_count": null,
   "id": "3817415d",
   "metadata": {},
   "outputs": [],
   "source": [
    "samsung_elec = 500000\n",
    "print(samsung_elec*10)"
   ]
  },
  {
   "cell_type": "code",
   "execution_count": null,
   "id": "e822ac1a",
   "metadata": {},
   "outputs": [],
   "source": [
    "시가총액, 현재가, PER = 298e15, 5e4, 1579e-2\n",
    "시가총액, 현재가, PER"
   ]
  },
  {
   "cell_type": "code",
   "execution_count": null,
   "id": "a97e0b7c",
   "metadata": {},
   "outputs": [],
   "source": [
    "s, t = \"hello\", \"python\"\n",
    "print(s + \"!\", t)"
   ]
  },
  {
   "cell_type": "code",
   "execution_count": null,
   "id": "30683f8e",
   "metadata": {},
   "outputs": [],
   "source": [
    "print(2+2*3)\n",
    "# * 연산자가 우선순위 결과는 8"
   ]
  },
  {
   "cell_type": "code",
   "execution_count": null,
   "id": "0e9c4d11",
   "metadata": {},
   "outputs": [],
   "source": [
    "a = 132\n",
    "print(type(a))\n",
    "# type() 함수는 객체의 유형을 출력"
   ]
  },
  {
   "cell_type": "code",
   "execution_count": null,
   "id": "6b6e5c5d",
   "metadata": {},
   "outputs": [],
   "source": [
    "num_str = \"720\"\n",
    "print(int(num_str),type(int(num_str)))\n",
    "# str 에서 int 형으로 형변환시 str 내의 값은 숫자로만 이루어져야 함\n",
    "# ex_str = \"hello\"\n",
    "# print(int(ex_str)) / 오류 발생"
   ]
  },
  {
   "cell_type": "code",
   "execution_count": null,
   "id": "1532baf4",
   "metadata": {},
   "outputs": [],
   "source": [
    "num = 100\n",
    "print(str(num), type(str(num)))"
   ]
  },
  {
   "cell_type": "code",
   "execution_count": null,
   "id": "582f0d62",
   "metadata": {},
   "outputs": [],
   "source": [
    "fl_str = \"15.79\"\n",
    "print(float(fl_str),type(float(fl_str)))\n",
    "# int 형으로 형변환 시 소숫점 이하는 버림 연산"
   ]
  },
  {
   "cell_type": "code",
   "execution_count": null,
   "id": "6bf17f10",
   "metadata": {},
   "outputs": [],
   "source": [
    "year = \"2020\"\n",
    "year = int(year)\n",
    "print(year-1, year-2, year-3)"
   ]
  },
  {
   "cell_type": "code",
   "execution_count": null,
   "id": "80c8ac31",
   "metadata": {},
   "outputs": [],
   "source": [
    "monthly_pay = 48584\n",
    "print(monthly_pay*36)\n",
    "# total_price = monthly_pay * 36\n",
    "# print(total_price)"
   ]
  },
  {
   "cell_type": "markdown",
   "id": "77c0d4c4",
   "metadata": {},
   "source": [
    "---\n",
    "## 파이썬 문자열 ( 21 ~ 50 )\n",
    "---"
   ]
  },
  {
   "cell_type": "code",
   "execution_count": null,
   "id": "cab2152c",
   "metadata": {},
   "outputs": [],
   "source": [
    "letters = \"python\"\n",
    "print(letters[0],letters[2])\n",
    "# 문자열 인덱싱\n",
    "# 숫자를 0 부터 세기 때문에 첫번째 글자의 위치는 0이다."
   ]
  },
  {
   "cell_type": "code",
   "execution_count": null,
   "id": "c6fabd5c",
   "metadata": {},
   "outputs": [],
   "source": [
    "license_plate = \"24가 2210\"\n",
    "print(license_plate[-4:])"
   ]
  },
  {
   "cell_type": "code",
   "execution_count": null,
   "id": "1df08845",
   "metadata": {},
   "outputs": [],
   "source": [
    "string = \"홀짝홀짝홀짝\"\n",
    "print(string[::2])\n",
    "# 문자열 슬라이싱\n",
    "# [x:y:z] x 부터 y 까지 z번째마다 라는 뜻이며 default 값은 [처음:끝:1] 이다."
   ]
  },
  {
   "cell_type": "code",
   "execution_count": null,
   "id": "475eaae3",
   "metadata": {},
   "outputs": [],
   "source": [
    "string = \"PYTHON\"\n",
    "print(string[::-1])\n",
    "# 문자열"
   ]
  },
  {
   "cell_type": "code",
   "execution_count": null,
   "id": "296505b2",
   "metadata": {},
   "outputs": [],
   "source": [
    "phone_number = \"010-1111-2222\"\n",
    "print(phone_number.replace(\"-\",\" \"))\n",
    "# str.replace(\"x\",\"y\") str 에 존재하는 \"x\" 를 \"y\" 로 치환해주는 메소드"
   ]
  },
  {
   "cell_type": "code",
   "execution_count": null,
   "id": "b5b34ed5",
   "metadata": {},
   "outputs": [],
   "source": [
    "print(phone_number.replace(\"-\",\"\"))"
   ]
  },
  {
   "cell_type": "code",
   "execution_count": null,
   "id": "9b2c6437",
   "metadata": {},
   "outputs": [],
   "source": [
    "url = \"http://sharebook.kr\"\n",
    "domain = url.split(\".\")[-1]\n",
    "print(domain)"
   ]
  },
  {
   "cell_type": "code",
   "execution_count": null,
   "id": "5553b4c4",
   "metadata": {},
   "outputs": [],
   "source": [
    "lang = 'python'\n",
    "lang[0] = 'P'\n",
    "print(lang)\n",
    "# 오류 발생 str 은 하나씩 재설정이 불가능 "
   ]
  },
  {
   "cell_type": "code",
   "execution_count": null,
   "id": "9dd2d9c1",
   "metadata": {},
   "outputs": [],
   "source": [
    "string = 'abcdfe2a354a32a'\n",
    "print(string.replace('a','A'))"
   ]
  },
  {
   "cell_type": "code",
   "execution_count": null,
   "id": "34810e28",
   "metadata": {},
   "outputs": [],
   "source": [
    "string = 'abcd'\n",
    "string.replace('b', 'B')\n",
    "print(string)\n",
    "#'abcd'\n",
    "# 다른 변수에 따로 저장하지 않았기 때문!"
   ]
  },
  {
   "cell_type": "code",
   "execution_count": null,
   "id": "a674af84",
   "metadata": {},
   "outputs": [],
   "source": [
    "a = '3'\n",
    "b = '4'\n",
    "print(a + b)\n",
    "# 문자열이기 때문에 문자열끼리 합쳐져 새로운 값 생성"
   ]
  },
  {
   "cell_type": "code",
   "execution_count": null,
   "id": "0550f904",
   "metadata": {},
   "outputs": [],
   "source": [
    "print(\"Hi\" * 3)\n",
    "# HiHiHi"
   ]
  },
  {
   "cell_type": "code",
   "execution_count": null,
   "id": "ea258f1c",
   "metadata": {},
   "outputs": [],
   "source": [
    "print(\"-\"*80)"
   ]
  },
  {
   "cell_type": "code",
   "execution_count": null,
   "id": "3d9a8e95",
   "metadata": {},
   "outputs": [],
   "source": [
    "t1 = 'python'\n",
    "t2 = 'java'\n",
    "print((t1+' '+t2+' ')*4)"
   ]
  },
  {
   "cell_type": "code",
   "execution_count": null,
   "id": "8c58065d",
   "metadata": {},
   "outputs": [],
   "source": [
    "name1 = \"김민수\" \n",
    "age1 = 10\n",
    "name2 = \"이철희\"\n",
    "age2 = 13\n",
    "print(f\"이름: {name1} 나이: {age1}\\n이름: {name2} 나이: {age2}\")\n",
    "# 변수를 str 내에서 바로 쓸 수 있게 해주지만 몹시 귀찮다..."
   ]
  },
  {
   "cell_type": "markdown",
   "id": "21ecf6df",
   "metadata": {},
   "source": [
    "- 36, 37 번은 생략"
   ]
  },
  {
   "cell_type": "code",
   "execution_count": null,
   "id": "18076ff0",
   "metadata": {},
   "outputs": [],
   "source": [
    "total_stocks = \"5,969,782,550\"\n",
    "i_stocks = total_stocks.replace(',',\"\")\n",
    "print(int(i_stocks))"
   ]
  },
  {
   "cell_type": "code",
   "execution_count": null,
   "id": "50e838df",
   "metadata": {},
   "outputs": [],
   "source": [
    "quater = \"2020/03(E) (IFRS연결)\"\n",
    "print(quater[:7])"
   ]
  },
  {
   "cell_type": "code",
   "execution_count": null,
   "id": "c04ad790",
   "metadata": {},
   "outputs": [],
   "source": [
    "data = \"   삼성전자    \"\n",
    "print(data.strip())"
   ]
  },
  {
   "cell_type": "code",
   "execution_count": null,
   "id": "07a53f34",
   "metadata": {},
   "outputs": [],
   "source": [
    "ticker = \"btc_krw\"\n",
    "print(ticker.upper())"
   ]
  },
  {
   "cell_type": "code",
   "execution_count": null,
   "id": "0bef5433",
   "metadata": {},
   "outputs": [],
   "source": [
    "ticker = \"BTC_KRW\"\n",
    "print(ticker.lower())"
   ]
  },
  {
   "cell_type": "code",
   "execution_count": null,
   "id": "78dbc5db",
   "metadata": {},
   "outputs": [],
   "source": [
    "letters = \"hello\"\n",
    "#print(letters.replace(\"h\",\"H\"))\n",
    "print(letters.capitalize())\n",
    "# capitalize() 메소드는 str의 첫 글자를 대문자화\n",
    "# title() 메소드는 str 내 모든 단어의 첫 글자를 대문자화"
   ]
  },
  {
   "cell_type": "code",
   "execution_count": null,
   "id": "53ee04fe",
   "metadata": {},
   "outputs": [],
   "source": [
    "file_name = \"보고서.xlsx\"\n",
    "print(file_name.endswith('xlsx'))\n",
    "# endswith('str') 메소드는 str의 마지막이 'str' 과 같은지에 대한 boolean 값을 리턴함"
   ]
  },
  {
   "cell_type": "code",
   "execution_count": null,
   "id": "a7f05b74",
   "metadata": {},
   "outputs": [],
   "source": [
    "file_name = \"보고서.xlsx\"\n",
    "print(file_name.endswith((\"xlsx\", \"xls\")))\n",
    "# print(file_name.endswith(\"xlsx\" and \"xls\"))\n",
    "# print(file_name.endswith(\"xlsx\" or \"xls\"))\n",
    "# 복수 비교 시 tuple 형으로 묶어줘야함.. tuple 없이 or , and 연산도 가능"
   ]
  },
  {
   "cell_type": "code",
   "execution_count": null,
   "id": "16b972d6",
   "metadata": {},
   "outputs": [],
   "source": [
    "file_name = \"2020_보고서.xlsx\"\n",
    "print(file_name.startswith(\"2020\"))\n",
    "# endswith() 메소드 형제"
   ]
  },
  {
   "cell_type": "code",
   "execution_count": null,
   "id": "826f592f",
   "metadata": {},
   "outputs": [],
   "source": [
    "a = \"hello world\"\n",
    "a_list = a.split(\" \")\n",
    "print(a, a_list)"
   ]
  },
  {
   "cell_type": "code",
   "execution_count": null,
   "id": "070ec16a",
   "metadata": {},
   "outputs": [],
   "source": [
    "ticker = \"btc_krw\"\n",
    "print(ticker.split(\"_\"))"
   ]
  },
  {
   "cell_type": "code",
   "execution_count": null,
   "id": "ac4f9ddf",
   "metadata": {},
   "outputs": [],
   "source": [
    "date = \"2020-05-01\"\n",
    "year, month, day = date.split(\"-\")\n",
    "print(year, month, day)"
   ]
  },
  {
   "cell_type": "code",
   "execution_count": null,
   "id": "191b1540",
   "metadata": {},
   "outputs": [],
   "source": [
    "data = \"039490     \"\n",
    "print(data.rstrip())"
   ]
  },
  {
   "cell_type": "markdown",
   "id": "c31e2742",
   "metadata": {},
   "source": [
    "---\n",
    "## 파이썬 리스트\n",
    "---"
   ]
  },
  {
   "cell_type": "code",
   "execution_count": null,
   "id": "f78b2d24",
   "metadata": {},
   "outputs": [],
   "source": [
    "movie_rank = [\"닥터 스트레인지\", \"스플릿\", \"럭키\",]"
   ]
  },
  {
   "cell_type": "code",
   "execution_count": null,
   "id": "76a79d20",
   "metadata": {},
   "outputs": [],
   "source": [
    "movie_rank.append(\"배트맨\")\n",
    "print(movie_rank)\n",
    "# append() 메소드는 list자료형의 마지막에 원소 추가"
   ]
  },
  {
   "cell_type": "code",
   "execution_count": null,
   "id": "4bcd87fa",
   "metadata": {},
   "outputs": [],
   "source": [
    "movie_rank.insert(2,\"슈퍼맨\")\n",
    "print(movie_rank)\n",
    "# insert(x,\"y\") 는 list[x] 에 \"y\" 원소 추가"
   ]
  },
  {
   "cell_type": "code",
   "execution_count": null,
   "id": "7f5071bc",
   "metadata": {},
   "outputs": [],
   "source": [
    "del movie_rank[1]\n",
    "del movie_rank[-1]\n",
    "print(movie_rank)\n",
    "# 삭제된 후 순서도 고려해야함"
   ]
  },
  {
   "cell_type": "code",
   "execution_count": null,
   "id": "bde950bf",
   "metadata": {},
   "outputs": [],
   "source": [
    "lang1 = [\"C\", \"C++\", \"JAVA\"]\n",
    "lang2 = [\"Python\", \"Go\", \"C#\"]\n",
    "print(lang1+lang2)\n",
    "# list 간 + 연산은 확장의 개념"
   ]
  },
  {
   "cell_type": "code",
   "execution_count": null,
   "id": "f26c4c4a",
   "metadata": {},
   "outputs": [],
   "source": [
    "nums = [1, 2, 3, 4, 5]\n",
    "print(sum(nums))\n",
    "# sum() 은 sequence데이터(list, tuple, range) 에서만 동작함"
   ]
  },
  {
   "cell_type": "code",
   "execution_count": null,
   "id": "4521ee59",
   "metadata": {},
   "outputs": [],
   "source": [
    "cook = [\n",
    "        \"피자\", \"김밥\", \"만두\", \n",
    "        \"양념치킨\", \"족발\", \"피자\",\n",
    "        \"김치만두\", \"쫄면\", \"소시지\",\n",
    "        \"라면\", \"팥빙수\", \"김치전\",] #~~~ comma 였는데 이름이 기억이 안남\n",
    "print(len(cook))\n",
    "# len(string) 의 경우 인덱싱된 str의 원소 개수를 카운트해서 str의 길이를 알 수 있음"
   ]
  },
  {
   "cell_type": "code",
   "execution_count": null,
   "id": "213f28a2",
   "metadata": {},
   "outputs": [],
   "source": [
    "nums = [1, 2, 3, 4, 5]\n",
    "print(sum(nums)/len(nums))"
   ]
  },
  {
   "cell_type": "code",
   "execution_count": null,
   "id": "23d430a2",
   "metadata": {},
   "outputs": [],
   "source": [
    "price = ['20180728', 100, 130, 140, 150, 160, 170]\n",
    "print(price[1:])"
   ]
  },
  {
   "cell_type": "code",
   "execution_count": null,
   "id": "66e20a41",
   "metadata": {},
   "outputs": [],
   "source": [
    "nums = [1, 2, 3, 4, 5, 6, 7, 8, 9, 10]\n",
    "print(nums[::2])"
   ]
  },
  {
   "cell_type": "code",
   "execution_count": null,
   "id": "b4a1dc48",
   "metadata": {},
   "outputs": [],
   "source": [
    "nums = [1, 2, 3, 4, 5, 6, 7, 8, 9, 10]\n",
    "print(nums[1::2])"
   ]
  },
  {
   "cell_type": "code",
   "execution_count": null,
   "id": "a7bf633c",
   "metadata": {},
   "outputs": [],
   "source": [
    "nums = [1, 2, 3, 4, 5]\n",
    "print(nums[::-1])"
   ]
  },
  {
   "cell_type": "code",
   "execution_count": null,
   "id": "418a75c5",
   "metadata": {},
   "outputs": [],
   "source": [
    "interest = ['삼성전자', 'LG전자', 'Naver']\n",
    "print(interest[0],interest[-1])"
   ]
  },
  {
   "cell_type": "code",
   "execution_count": null,
   "id": "de0f13f6",
   "metadata": {},
   "outputs": [],
   "source": [
    "interest = ['삼성전자', 'LG전자', 'Naver', 'SK하이닉스', '미래에셋대우']\n",
    "print(\" \".join(interest))\n",
    "# join() 메소드는 sequential data 를 string 으로 변환할때 유용함"
   ]
  },
  {
   "cell_type": "code",
   "execution_count": null,
   "id": "1d95fbe2",
   "metadata": {},
   "outputs": [],
   "source": [
    "interest = ['삼성전자', 'LG전자', 'Naver', 'SK하이닉스', '미래에셋대우']\n",
    "print(\"/\".join(interest))"
   ]
  },
  {
   "cell_type": "code",
   "execution_count": null,
   "id": "7c47404c",
   "metadata": {},
   "outputs": [],
   "source": [
    "interest = ['삼성전자', 'LG전자', 'Naver', 'SK하이닉스', '미래에셋대우']\n",
    "print(\"\\n\".join(interest))"
   ]
  },
  {
   "cell_type": "code",
   "execution_count": null,
   "id": "1191831f",
   "metadata": {},
   "outputs": [],
   "source": [
    "string = \"삼성전자/LG전자/Naver\"\n",
    "interest = string.split(\"/\")\n",
    "print(interest)"
   ]
  },
  {
   "cell_type": "code",
   "execution_count": null,
   "id": "048431e6",
   "metadata": {},
   "outputs": [],
   "source": [
    "data = [2, 4, 3, 1, 5, 10, 9]\n",
    "sort_data = sorted(data)\n",
    "print(sort_data[::-1])"
   ]
  },
  {
   "cell_type": "markdown",
   "id": "14fc9727",
   "metadata": {},
   "source": [
    "## 파이썬 튜플"
   ]
  },
  {
   "cell_type": "code",
   "execution_count": null,
   "id": "995e7bfa",
   "metadata": {},
   "outputs": [],
   "source": [
    "my_variable = ()\n",
    "print(type(my_variable))"
   ]
  },
  {
   "cell_type": "code",
   "execution_count": null,
   "id": "23d5957e",
   "metadata": {},
   "outputs": [],
   "source": [
    "movie_rank = (\"닥터 스트레인지\", \"스플릿\", \"럭키\",)\n",
    "print(movie_rank)"
   ]
  },
  {
   "cell_type": "code",
   "execution_count": null,
   "id": "9e4c58e6",
   "metadata": {},
   "outputs": [],
   "source": [
    "my_tu = (1,)\n",
    "print(type(my_tu))"
   ]
  },
  {
   "cell_type": "code",
   "execution_count": null,
   "id": "2bba39ac",
   "metadata": {},
   "outputs": [],
   "source": [
    "\"\"\">> t = (1, 2, 3)\n",
    ">> t[0] = 'a'\n",
    "Traceback (most recent call last):\n",
    "  File \"<pyshell#46>\", line 1, in <module>\n",
    "    t[0] = 'a'\n",
    "TypeError: 'tuple' object does not support item assignment\n",
    "\"\"\"\n",
    "#tuple은 immutable 자료형"
   ]
  },
  {
   "cell_type": "code",
   "execution_count": null,
   "id": "ba832760",
   "metadata": {},
   "outputs": [],
   "source": [
    "t = 1, 2, 3, 4\n",
    "# tuple형으로 자동 저장"
   ]
  },
  {
   "cell_type": "code",
   "execution_count": null,
   "id": "4c34aaa1",
   "metadata": {},
   "outputs": [],
   "source": [
    "t = ('a', 'b', 'c')\n",
    "t = ('A', 'b', 'c')"
   ]
  },
  {
   "cell_type": "code",
   "execution_count": null,
   "id": "951cc026",
   "metadata": {},
   "outputs": [],
   "source": [
    "interest = ('삼성전자', 'LG전자', 'SK Hynix')\n",
    "interest_list = list(interest)\n",
    "type(interest_list)"
   ]
  },
  {
   "cell_type": "code",
   "execution_count": null,
   "id": "1ecc114c",
   "metadata": {},
   "outputs": [],
   "source": [
    "interest = ['삼성전자', 'LG전자', 'SK Hynix']\n",
    "interest_tup = tuple(interest)\n",
    "type(interest_tup)"
   ]
  },
  {
   "cell_type": "code",
   "execution_count": null,
   "id": "8e23bb1d",
   "metadata": {},
   "outputs": [],
   "source": [
    "temp = ('apple', 'banana', 'cake')\n",
    "a, b, c = temp\n",
    "print(a, b, c)\n",
    "# x, y = 1, 2 와 같은 결과"
   ]
  },
  {
   "cell_type": "code",
   "execution_count": null,
   "id": "a5bae452",
   "metadata": {},
   "outputs": [],
   "source": [
    "tmp = tuple(range(2, 100, 2))\n",
    "print(tmp)"
   ]
  },
  {
   "cell_type": "markdown",
   "id": "c7a59f76",
   "metadata": {},
   "source": [
    "---\n",
    "## 파이썬 딕셔너리\n",
    "---"
   ]
  },
  {
   "cell_type": "code",
   "execution_count": null,
   "id": "0b8df173",
   "metadata": {},
   "outputs": [],
   "source": [
    "scores = [8.8, 8.9, 8.7, 9.2, 9.3, 9.7, 9.9, 9.5, 7.8, 9.4]\n",
    "*valid_scores, a, b = scores\n",
    "print(valid_scores)"
   ]
  },
  {
   "cell_type": "code",
   "execution_count": null,
   "id": "d458e410",
   "metadata": {},
   "outputs": [],
   "source": [
    "scores = [8.8, 8.9, 8.7, 9.2, 9.3, 9.7, 9.9, 9.5, 7.8, 9.4]\n",
    "a, b, *valid_scores = scores\n",
    "print(valid_scores)"
   ]
  },
  {
   "cell_type": "code",
   "execution_count": null,
   "id": "0724b348",
   "metadata": {},
   "outputs": [],
   "source": [
    "scores = [8.8, 8.9, 8.7, 9.2, 9.3, 9.7, 9.9, 9.5, 7.8, 9.4]\n",
    "a, *valid_scores, b = scores\n",
    "print(valid_scores)"
   ]
  },
  {
   "cell_type": "code",
   "execution_count": null,
   "id": "7e82da04",
   "metadata": {},
   "outputs": [],
   "source": [
    "temp = {}\n",
    "type(temp)"
   ]
  },
  {
   "cell_type": "code",
   "execution_count": null,
   "id": "3fa14383",
   "metadata": {},
   "outputs": [],
   "source": [
    "icecreams = {\"메로나\": 1000, \"폴라포\": 1200, \"빵빠레\": 1800}\n",
    "print(icecreams)"
   ]
  },
  {
   "cell_type": "code",
   "execution_count": null,
   "id": "8b46a5d4",
   "metadata": {},
   "outputs": [],
   "source": [
    "new_icecreams = {\"죠스바\": 1200, \"월드콘\": 1500}\n",
    "# icecreams = icecreams.update(new_icecreams)\n",
    "# 이러면 icecreams = None 이 됨\n",
    "icecreams.update(new_icecreams)\n",
    "print(icecreams)\n",
    "\"\"\"update() 메소드는 앞에 오는 참조 객체를 직접 수정하는 개념으로 \n",
    "실행후에는 None 값을 반환한다.. 고로 d = d.update() 같은 바보짓은\n",
    "하지말자...\"\"\""
   ]
  },
  {
   "cell_type": "code",
   "execution_count": null,
   "id": "52482a77",
   "metadata": {},
   "outputs": [],
   "source": [
    "print(\"메로나 가격:\",icecreams[\"메로나\"])"
   ]
  },
  {
   "cell_type": "code",
   "execution_count": null,
   "id": "64700414",
   "metadata": {},
   "outputs": [],
   "source": [
    "del icecreams[\"메로나\"]\n",
    "print(icecreams)"
   ]
  },
  {
   "cell_type": "code",
   "execution_count": null,
   "id": "fa02ce87",
   "metadata": {},
   "outputs": [],
   "source": [
    "\"\"\"icecream = {\n",
    "                '폴라포': 1200, '빵빠레': 1800, \n",
    "                '월드콘': 1500, '메로나': 1000}\n",
    ">> icecream['누가바']\n",
    "Traceback (most recent call last):\n",
    "  File \"<pyshell#69>\", line 1, in <module>\n",
    "    icecream['누가바']\n",
    "KeyError: '누가바'\"\"\"\n",
    "# '누가바' 라는 key가 없음"
   ]
  },
  {
   "cell_type": "code",
   "execution_count": null,
   "id": "0d5f4e78",
   "metadata": {},
   "outputs": [],
   "source": [
    "inventory = {\"메로나\": [300, 20], \"비비빅\": [400, 3], \"죠스바\": [250, 100]}\n",
    "print(inventory)"
   ]
  },
  {
   "cell_type": "code",
   "execution_count": null,
   "id": "c5136f88",
   "metadata": {},
   "outputs": [],
   "source": [
    "print(inventory[\"메로나\"][0],\"원\")"
   ]
  },
  {
   "cell_type": "code",
   "execution_count": null,
   "id": "b89d2d78",
   "metadata": {},
   "outputs": [],
   "source": [
    "print(inventory[\"메로나\"][1],\"개\")"
   ]
  },
  {
   "cell_type": "code",
   "execution_count": null,
   "id": "98b52987",
   "metadata": {},
   "outputs": [],
   "source": [
    "inventory[\"월드콘\"] =[500, 7]\n",
    "print(inventory)"
   ]
  },
  {
   "cell_type": "code",
   "execution_count": null,
   "id": "78e880e3",
   "metadata": {},
   "outputs": [],
   "source": [
    "icecream = {\n",
    "            '탱크보이': 1200, '폴라포': 1200, \n",
    "            '빵빠레': 1800, '월드콘': 1500,\n",
    "            '메로나': 1000,}\n",
    "icecream_key = list(icecream.keys())\n",
    "auto_key = icecream.keys()\n",
    "print(icecream_key, icecream.keys(), type(icecream.keys()))\n",
    "# keys() 함수 실행 시 dict_keys[] 가 자동 생성\n",
    "# 이때 생성되는 dict_keys 는 tuple 이나 list 가 아닌 파이썬 내장 class\n",
    "# list(dict.keys()) 로 리스트화 가능"
   ]
  },
  {
   "cell_type": "code",
   "execution_count": null,
   "id": "34fe6601",
   "metadata": {},
   "outputs": [],
   "source": [
    "icecream = {\n",
    "            '탱크보이': 1200, '폴라포': 1200, \n",
    "            '빵빠레': 1800, '월드콘': 1500,\n",
    "            '메로나': 1000,}\n",
    "icecream_vals = list(icecream.values())\n",
    "print(icecream_vals)"
   ]
  },
  {
   "cell_type": "code",
   "execution_count": null,
   "id": "7fe4f3c0",
   "metadata": {},
   "outputs": [],
   "source": [
    "print(sum(icecream_vals))"
   ]
  },
  {
   "cell_type": "code",
   "execution_count": null,
   "id": "26227c0f",
   "metadata": {},
   "outputs": [],
   "source": [
    "icecream = {\n",
    "            '탱크보이': 1200, '폴라포': 1200, \n",
    "            '빵빠레': 1800, '월드콘': 1500,\n",
    "            '메로나': 1000,}\n",
    "new_product = {'팥빙수':2700, '아맛나':1000}\n",
    "icecream.update(new_product)\n",
    "print(icecream)"
   ]
  },
  {
   "cell_type": "code",
   "execution_count": null,
   "id": "2a1902c1",
   "metadata": {},
   "outputs": [],
   "source": [
    "keys = (\"apple\", \"pear\", \"peach\")\n",
    "vals = (300, 250, 400)\n",
    "fruits = dict(zip(keys,vals))\n",
    "print(fruits)"
   ]
  },
  {
   "cell_type": "code",
   "execution_count": null,
   "id": "ffe66c90",
   "metadata": {},
   "outputs": [],
   "source": [
    "date = ['09/05', '09/06', '09/07', '09/08', '09/09']\n",
    "close_price = [10500, 10300, 10100, 10800, 11000]\n",
    "close_table = dict(zip(date, close_price))\n",
    "print(close_table)"
   ]
  },
  {
   "cell_type": "markdown",
   "id": "9dc5c67d",
   "metadata": {},
   "source": [
    "---\n",
    "## 분기문\n",
    "---"
   ]
  },
  {
   "cell_type": "code",
   "execution_count": null,
   "id": "8a66b881",
   "metadata": {},
   "outputs": [],
   "source": [
    "boolean"
   ]
  },
  {
   "cell_type": "code",
   "execution_count": null,
   "id": "417a13ff",
   "metadata": {},
   "outputs": [],
   "source": [
    "False"
   ]
  },
  {
   "cell_type": "code",
   "execution_count": null,
   "id": "44f1e965",
   "metadata": {},
   "outputs": [],
   "source": [
    "True"
   ]
  },
  {
   "cell_type": "code",
   "execution_count": null,
   "id": "430709da",
   "metadata": {},
   "outputs": [],
   "source": [
    "True"
   ]
  },
  {
   "cell_type": "code",
   "execution_count": null,
   "id": "b81e11af",
   "metadata": {},
   "outputs": [],
   "source": [
    "True"
   ]
  },
  {
   "cell_type": "code",
   "execution_count": null,
   "id": "765ea4ce",
   "metadata": {},
   "outputs": [],
   "source": [
    "# 지원하지 않는 연산자"
   ]
  },
  {
   "cell_type": "code",
   "execution_count": null,
   "id": "9daeeb3b",
   "metadata": {},
   "outputs": [],
   "source": [
    "# None"
   ]
  },
  {
   "cell_type": "code",
   "execution_count": null,
   "id": "1db4170a",
   "metadata": {},
   "outputs": [],
   "source": [
    "\"Hi, there.\""
   ]
  },
  {
   "cell_type": "code",
   "execution_count": null,
   "id": "987f46f0",
   "metadata": {},
   "outputs": [],
   "source": [
    "1,2,4"
   ]
  },
  {
   "cell_type": "code",
   "execution_count": null,
   "id": "4c8c2d41",
   "metadata": {},
   "outputs": [],
   "source": [
    "3, 5"
   ]
  },
  {
   "cell_type": "code",
   "execution_count": null,
   "id": "c80eb9b9",
   "metadata": {},
   "outputs": [],
   "source": [
    "line = input()\n",
    "print(line*2)"
   ]
  },
  {
   "cell_type": "code",
   "execution_count": null,
   "id": "e1eb155d",
   "metadata": {},
   "outputs": [],
   "source": [
    "num = int(input(\"숫자를 입력하세요:\"))\n",
    "print(num+10)"
   ]
  },
  {
   "cell_type": "code",
   "execution_count": null,
   "id": "e6da7f74",
   "metadata": {},
   "outputs": [],
   "source": [
    "num = int(input(\"숫자를 입력하세요:\"))\n",
    "if num % 2 == 0:\n",
    "    print(\"짝수\")\n",
    "else :\n",
    "    print(\"홀수\")"
   ]
  },
  {
   "cell_type": "code",
   "execution_count": null,
   "id": "37ec9b58",
   "metadata": {},
   "outputs": [],
   "source": [
    "num = int(input(\"숫자를 입력하세요:\"))\n",
    "if (num+20) > 255 :\n",
    "    print(255)\n",
    "else :\n",
    "    print(num+20)"
   ]
  },
  {
   "cell_type": "code",
   "execution_count": null,
   "id": "eec63e70",
   "metadata": {},
   "outputs": [],
   "source": [
    "num = int(input(\"숫자를 입력하세요:\"))\n",
    "if (num-20) < 0 :\n",
    "    print(0)\n",
    "else :\n",
    "    print(num-20)"
   ]
  },
  {
   "cell_type": "code",
   "execution_count": null,
   "id": "830728f0",
   "metadata": {},
   "outputs": [],
   "source": [
    "time = input(\"시간을 입력하세요 :\")\n",
    "if time[-2:] == \"00\" :\n",
    "    print(\"정각입니다.\")\n",
    "else :\n",
    "    print(\"정각이 아닙니다.\")"
   ]
  },
  {
   "cell_type": "code",
   "execution_count": null,
   "id": "ec70f368",
   "metadata": {},
   "outputs": [],
   "source": [
    "fruit = [\"사과\", \"포도\", \"홍시\"]\n",
    "a = input(\"좋아하는 과일은?\")\n",
    "if a in fruit :\n",
    "    print(\"정답입니다.\")\n",
    "else :\n",
    "    print(\"오답입니다.\")"
   ]
  },
  {
   "cell_type": "code",
   "execution_count": null,
   "id": "847de1c5",
   "metadata": {},
   "outputs": [],
   "source": [
    "warn_investment_list = [\n",
    "                        \"Microsoft\", \"Google\",\n",
    "                        \"Naver\", \"Kakao\", \n",
    "                        \"SAMSUNG\", \"LG\",]\n",
    "stock = input(\"종목을 입력하세요 :\")\n",
    "if stock.capitalize() in warn_investment_list:\n",
    "    print(\"위험 종목입니다.\")\n",
    "else :\n",
    "    print(\"위험 종목이 아닙니다.\")"
   ]
  },
  {
   "cell_type": "code",
   "execution_count": null,
   "id": "e2273f01",
   "metadata": {},
   "outputs": [],
   "source": [
    "fruit = {\"봄\" : \"딸기\", \"여름\" : \"토마토\", \"가을\" : \"사과\"}\n",
    "seasons = input(\"좋아하는 계절은? :\")\n",
    "season_list = list(fruit.keys())\n",
    "if seasons in season_list :\n",
    "    print(\"정답입니다.\")\n",
    "else :\n",
    "    print(\"오답입니다.\")"
   ]
  },
  {
   "cell_type": "code",
   "execution_count": null,
   "id": "b4c0d400",
   "metadata": {},
   "outputs": [],
   "source": [
    "fruits_list = list(fruit.values())\n",
    "ans_fruit = input(\"좋아하는 과일은? :\")\n",
    "if ans_fruit in fruits_list:\n",
    "    print(\"정답입니다.\")\n",
    "else :\n",
    "    print(\"오답입니다.\")"
   ]
  },
  {
   "cell_type": "code",
   "execution_count": null,
   "id": "0a30b2dc",
   "metadata": {},
   "outputs": [],
   "source": [
    "letter = input(\"알파벳을 입력하세요 :\")\n",
    "if letter.islower():\n",
    "    print(letter.upper())\n",
    "else :\n",
    "    print(letter.lower())"
   ]
  },
  {
   "cell_type": "markdown",
   "id": "c71bfffb",
   "metadata": {},
   "source": [
    "---\n",
    "## 파이썬 반복문\n",
    "---"
   ]
  },
  {
   "cell_type": "code",
   "execution_count": null,
   "id": "1b1460db",
   "metadata": {},
   "outputs": [],
   "source": [
    "과일 = [\"사과\", \"귤\", \"수박\"]\n",
    "for 변수 in 과일:\n",
    "    print(변수)\n",
    "#사과\n",
    "#귤\n",
    "#수박"
   ]
  },
  {
   "cell_type": "code",
   "execution_count": null,
   "id": "7378f335",
   "metadata": {},
   "outputs": [],
   "source": [
    "과일 = [\"사과\", \"귤\", \"수박\"]\n",
    "for 변수 in 과일:\n",
    "  print(\"#####\")\n",
    "# #####\n",
    "# #####\n",
    "# #####"
   ]
  },
  {
   "cell_type": "code",
   "execution_count": null,
   "id": "01014a98",
   "metadata": {},
   "outputs": [],
   "source": [
    "for 변수 in [\"A\", \"B\", \"C\"]:\n",
    "  print(변수)\n",
    "print(\"A\\nB\\nC\")"
   ]
  },
  {
   "cell_type": "code",
   "execution_count": null,
   "id": "5314d9e2",
   "metadata": {},
   "outputs": [],
   "source": [
    "print(\"a\\nb\\nc\")"
   ]
  },
  {
   "cell_type": "code",
   "execution_count": null,
   "id": "51a46517",
   "metadata": {},
   "outputs": [],
   "source": [
    "nums = [10, 20, 30,]\n",
    "for 변수 in nums :\n",
    "    print(변수)"
   ]
  },
  {
   "cell_type": "code",
   "execution_count": null,
   "id": "f26b39d8",
   "metadata": {},
   "outputs": [],
   "source": [
    "nums = [10, 20, 30,]\n",
    "for 변수 in nums :\n",
    "    print(변수)"
   ]
  },
  {
   "cell_type": "code",
   "execution_count": null,
   "id": "e9350a32",
   "metadata": {},
   "outputs": [],
   "source": [
    "nums = [10, 20, 30,]\n",
    "for 변수 in nums :\n",
    "    print(변수)\n",
    "    print(\"------\")"
   ]
  },
  {
   "cell_type": "code",
   "execution_count": null,
   "id": "46fa67a6",
   "metadata": {},
   "outputs": [],
   "source": [
    "nums = [\"++++\", 10, 20, 30,]\n",
    "for 변수 in nums :\n",
    "    print(변수)"
   ]
  },
  {
   "cell_type": "code",
   "execution_count": null,
   "id": "db2f3764",
   "metadata": {},
   "outputs": [],
   "source": [
    "for i in range(0,4) :\n",
    "    print (\"-------\")"
   ]
  },
  {
   "cell_type": "code",
   "execution_count": null,
   "id": "4018cc62",
   "metadata": {},
   "outputs": [],
   "source": [
    "prices = [100, 200, 300]\n",
    "for i in prices :\n",
    "    print(i+10)\n"
   ]
  },
  {
   "cell_type": "code",
   "execution_count": null,
   "id": "60c286d2",
   "metadata": {},
   "outputs": [],
   "source": [
    "menus = [\"김밥\", \"라면\", \"튀김\"]\n",
    "for i in menus:\n",
    "    print(\"오늘의 메뉴 :\", i)\n"
   ]
  },
  {
   "cell_type": "code",
   "execution_count": null,
   "id": "79bb4826",
   "metadata": {},
   "outputs": [],
   "source": [
    "stocks = [\"SK하이닉스\", \"삼성전자\", \"LG전자\"]\n",
    "for stock in stocks :\n",
    "    print(len(stock))\n"
   ]
  },
  {
   "cell_type": "code",
   "execution_count": null,
   "id": "3d466675",
   "metadata": {},
   "outputs": [],
   "source": [
    "animals = ['dog', 'cat', 'parrot']\n",
    "for animal in animals :\n",
    "    print(animal, len(animal))\n"
   ]
  },
  {
   "cell_type": "code",
   "execution_count": null,
   "id": "058a79b6",
   "metadata": {},
   "outputs": [],
   "source": [
    "for animal in animals:\n",
    "    print(animal[0])"
   ]
  },
  {
   "cell_type": "code",
   "execution_count": null,
   "id": "6a2d59a3",
   "metadata": {},
   "outputs": [],
   "source": [
    "nums = [1, 2, 3,]\n",
    "for num in nums :\n",
    "    print(\"3*\"+str(num))"
   ]
  },
  {
   "cell_type": "code",
   "execution_count": null,
   "id": "119ed06b",
   "metadata": {},
   "outputs": [],
   "source": [
    "for num in nums :\n",
    "    print(\"3*\"+str(num)+\"=\",3*num)"
   ]
  },
  {
   "cell_type": "code",
   "execution_count": null,
   "id": "cb2654e5",
   "metadata": {},
   "outputs": [],
   "source": [
    "kor_letters = [\"가\", \"나\", \"다\", \"라\"]\n",
    "for letter in kor_letters[1:] :\n",
    "    print(letter)\n"
   ]
  },
  {
   "cell_type": "code",
   "execution_count": null,
   "id": "119defc1",
   "metadata": {},
   "outputs": [],
   "source": [
    "for letter in kor_letters[::2]:\n",
    "    print(letter)"
   ]
  },
  {
   "cell_type": "code",
   "execution_count": null,
   "id": "f614c17c",
   "metadata": {},
   "outputs": [],
   "source": [
    "for letter in kor_letters[::-1] :\n",
    "    print(letter)"
   ]
  },
  {
   "cell_type": "code",
   "execution_count": null,
   "id": "ea8af76c",
   "metadata": {},
   "outputs": [],
   "source": [
    "리스트 = [3, -20, -3, 44]\n",
    "for num in 리스트 :\n",
    "    if num < 0 :\n",
    "        print(num)        "
   ]
  },
  {
   "cell_type": "code",
   "execution_count": null,
   "id": "cd2e7bc6",
   "metadata": {},
   "outputs": [],
   "source": [
    "리스트 = [3, 100, 23, 44]\n",
    "for num in 리스트 :\n",
    "    if num % 3 == 0 :\n",
    "        print(num)  "
   ]
  },
  {
   "cell_type": "code",
   "execution_count": null,
   "id": "ae790a0a",
   "metadata": {},
   "outputs": [],
   "source": [
    "리스트 = [13, 21, 12, 14, 30, 18]\n",
    "for num in 리스트 :\n",
    "    if num < 20 and num % 3 == 0:\n",
    "        print(num,)"
   ]
  },
  {
   "cell_type": "code",
   "execution_count": null,
   "id": "cbd956d3",
   "metadata": {},
   "outputs": [],
   "source": [
    "리스트 = [\"I\", \"study\", \"python\", \"language\", \"!\"]\n",
    "for word in 리스트 :\n",
    "    if len(word) > 2 :\n",
    "        print(word)"
   ]
  },
  {
   "cell_type": "code",
   "execution_count": null,
   "id": "d84088c6",
   "metadata": {},
   "outputs": [],
   "source": [
    "리스트 = [\"A\", \"b\", \"c\", \"D\"]\n",
    "for letter in 리스트:\n",
    "    if letter.isupper() :\n",
    "        print(letter)"
   ]
  },
  {
   "cell_type": "code",
   "execution_count": null,
   "id": "18c03853",
   "metadata": {},
   "outputs": [],
   "source": [
    "for letter in 리스트:\n",
    "    if letter.islower() :\n",
    "        print(letter)"
   ]
  },
  {
   "cell_type": "code",
   "execution_count": null,
   "id": "afb36d94",
   "metadata": {},
   "outputs": [],
   "source": [
    "리스트 = ['dog', 'cat', 'parrot']\n",
    "for word in 리스트:\n",
    "    print(word.title())"
   ]
  },
  {
   "cell_type": "code",
   "execution_count": null,
   "id": "a93f7ea2",
   "metadata": {},
   "outputs": [],
   "source": [
    "리스트 = ['hello.py', 'ex01.py', 'intro.hwp']\n",
    "for name in 리스트 :\n",
    "    name_1, name_2 = name.split(\".\")\n",
    "    print(name_1)"
   ]
  },
  {
   "cell_type": "code",
   "execution_count": null,
   "id": "00ff1763",
   "metadata": {},
   "outputs": [],
   "source": [
    "리스트 = ['intra.h', 'intra.c', 'define.h', 'run.py']\n",
    "for file in 리스트 :\n",
    "    if file[-1] == 'h':\n",
    "        print(file)\n",
    "    elif file[-1] == 'c':\n",
    "        print(file)"
   ]
  },
  {
   "cell_type": "code",
   "execution_count": null,
   "id": "939c6943",
   "metadata": {},
   "outputs": [],
   "source": [
    "for num in range(0,100):\n",
    "    print(num)"
   ]
  },
  {
   "cell_type": "code",
   "execution_count": null,
   "id": "d6ed82f9",
   "metadata": {},
   "outputs": [],
   "source": [
    "for year in range(2002,2051,4) :\n",
    "    print(year)"
   ]
  },
  {
   "cell_type": "code",
   "execution_count": null,
   "id": "00caf06b",
   "metadata": {},
   "outputs": [],
   "source": [
    "for num in range(3,31,3):\n",
    "        print(num)"
   ]
  },
  {
   "cell_type": "code",
   "execution_count": null,
   "id": "1dfb404a",
   "metadata": {},
   "outputs": [],
   "source": [
    "\"\"\"num = 99\n",
    "while num >= 0 :\n",
    "    print(num)\n",
    "    num -= 1\"\"\"\n",
    "for i in range(100):\n",
    "    print(99 - i)"
   ]
  },
  {
   "cell_type": "code",
   "execution_count": null,
   "id": "617adb13",
   "metadata": {},
   "outputs": [],
   "source": [
    "for i in range(10):\n",
    "    print(i/10)"
   ]
  },
  {
   "cell_type": "code",
   "execution_count": null,
   "id": "2279f7fa",
   "metadata": {},
   "outputs": [],
   "source": [
    "for i in range(10):\n",
    "    if i % 2 != 0 :\n",
    "        print(f\"3X{i}={i*3}\")"
   ]
  },
  {
   "cell_type": "code",
   "execution_count": null,
   "id": "f3dd67cb",
   "metadata": {},
   "outputs": [],
   "source": [
    "tmp = 0\n",
    "for i in range(11):\n",
    "    tmp += i\n",
    "print(tmp)"
   ]
  },
  {
   "cell_type": "code",
   "execution_count": null,
   "id": "dec1cde6",
   "metadata": {},
   "outputs": [],
   "source": [
    "tmp = 0\n",
    "for i in range(11):\n",
    "    if i % 2 != 0:\n",
    "        tmp += i\n",
    "print(tmp)"
   ]
  },
  {
   "cell_type": "code",
   "execution_count": null,
   "id": "d98c8479",
   "metadata": {},
   "outputs": [],
   "source": [
    "tmp = 1\n",
    "for i in range(1,11):\n",
    "    tmp *= i\n",
    "print(tmp)"
   ]
  },
  {
   "cell_type": "code",
   "execution_count": null,
   "id": "8f64c936",
   "metadata": {},
   "outputs": [],
   "source": [
    "price_list = [32100, 32150, 32000, 32500]\n",
    "for i in range(4):\n",
    "    print(price_list[i])"
   ]
  },
  {
   "cell_type": "code",
   "execution_count": null,
   "id": "37edf3a9",
   "metadata": {},
   "outputs": [],
   "source": [
    "price_list = [32100, 32150, 32000, 32500]\n",
    "for i in range(4):\n",
    "    print(len(price_list)-i, price_list[i])"
   ]
  },
  {
   "cell_type": "code",
   "execution_count": null,
   "id": "5788a3a1",
   "metadata": {},
   "outputs": [],
   "source": [
    "for i in range(1, 4):\n",
    "    print(90 + 10 * i, price_list[i])"
   ]
  },
  {
   "cell_type": "code",
   "execution_count": null,
   "id": "2a1a0a44",
   "metadata": {},
   "outputs": [],
   "source": [
    "my_list = [\"가\", \"나\", \"다\", \"라\"]\n",
    "for i in range(3):\n",
    "    print(my_list[i], my_list[i+1])"
   ]
  },
  {
   "cell_type": "code",
   "execution_count": null,
   "id": "406bb9d4",
   "metadata": {},
   "outputs": [],
   "source": [
    "my_list = [\"가\", \"나\", \"다\", \"라\", \"마\"]\n",
    "for i in range(len(my_list)-2):\n",
    "    print(my_list[i], my_list[i+1], my_list[i+2])"
   ]
  },
  {
   "cell_type": "code",
   "execution_count": null,
   "id": "cbd3e06e",
   "metadata": {},
   "outputs": [],
   "source": [
    "my_list = [\"가\", \"나\", \"다\", \"라\"]\n",
    "for i in range(len(my_list) - 1):\n",
    "    print(my_list[len(my_list) - 1 - i], my_list[len(my_list) - 2 - i])"
   ]
  },
  {
   "cell_type": "code",
   "execution_count": null,
   "id": "9e0b3dd1",
   "metadata": {},
   "outputs": [],
   "source": [
    "cnt = 0\n",
    "my_list = [100, 200, 400, 800]\n",
    "for num in range(len(my_list)-1):\n",
    "    print(my_list[num+1] - my_list[num])"
   ]
  },
  {
   "cell_type": "code",
   "execution_count": null,
   "id": "f90b43fb",
   "metadata": {},
   "outputs": [],
   "source": [
    "low_prices  = [100, 200, 400, 800, 1000]\n",
    "high_prices = [150, 300, 430, 880, 1000]\n",
    "volatillity = list()\n",
    "for i in range(len(low_prices)):\n",
    "    volatillity.append(high_prices[i] - low_prices[i])\n",
    "print(volatillity)"
   ]
  },
  {
   "cell_type": "code",
   "execution_count": null,
   "id": "c0c129e9",
   "metadata": {},
   "outputs": [],
   "source": [
    "apart = [[\"101호\", \"102호\"], [\"201호\", \"202호\"], [\"301호\", \"302호\"]]\n",
    "apart"
   ]
  },
  {
   "cell_type": "code",
   "execution_count": null,
   "id": "e75f3de6",
   "metadata": {},
   "outputs": [],
   "source": [
    "stock = [[\"시가\", 100, 200, 300], [\"종가\", 80, 210, 330]]\n",
    "stock"
   ]
  },
  {
   "cell_type": "code",
   "execution_count": null,
   "id": "12f389bc",
   "metadata": {},
   "outputs": [],
   "source": [
    "stock = {\"시가\": [100, 200, 300], \"종가\" : [80, 210, 330]}\n",
    "stock"
   ]
  },
  {
   "cell_type": "code",
   "execution_count": null,
   "id": "61053b4f",
   "metadata": {},
   "outputs": [],
   "source": [
    "stock = {\"10/10\": [80, 110, 70, 90], \"10/11\": [210, 230, 190, 200]}\n",
    "stock"
   ]
  },
  {
   "cell_type": "code",
   "execution_count": null,
   "id": "1f8bd32d",
   "metadata": {},
   "outputs": [],
   "source": [
    "cnt = 0\n",
    "apart = [ [101, 102], [201, 202], [301, 302] ]\n",
    "for i in range(len(apart)) :\n",
    "    for cnt in range(2):\n",
    "        print(apart[x][cnt], \"호\")"
   ]
  },
  {
   "cell_type": "code",
   "execution_count": null,
   "id": "47427b1a",
   "metadata": {},
   "outputs": [],
   "source": [
    "cnt = 0\n",
    "apart = [ [101, 102], [201, 202], [301, 302] ]\n",
    "for row in apart :\n",
    "    for col in row :\n",
    "        print(col, \"호\")"
   ]
  },
  {
   "cell_type": "code",
   "execution_count": 4,
   "id": "a6188bfd",
   "metadata": {},
   "outputs": [],
   "source": [
    "babbles = [\"aya\", \"ye\", \"woo\", \"ma\",]\n",
    "def solution(babbling):\n",
    "    answer = 0\n",
    "    for babble in babbles :\n",
    "        if babble in bablling :\n",
    "            answer += 1\n",
    "    return answer"
   ]
  },
  {
   "cell_type": "code",
   "execution_count": null,
   "id": "36949491",
   "metadata": {},
   "outputs": [],
   "source": []
  },
  {
   "cell_type": "code",
   "execution_count": null,
   "id": "55d3f8cf",
   "metadata": {},
   "outputs": [],
   "source": []
  },
  {
   "cell_type": "code",
   "execution_count": null,
   "id": "82f01f4d",
   "metadata": {},
   "outputs": [],
   "source": []
  },
  {
   "cell_type": "code",
   "execution_count": null,
   "id": "73c8e5ad",
   "metadata": {},
   "outputs": [],
   "source": []
  },
  {
   "cell_type": "code",
   "execution_count": null,
   "id": "ace408d9",
   "metadata": {},
   "outputs": [],
   "source": []
  },
  {
   "cell_type": "code",
   "execution_count": null,
   "id": "d22a7235",
   "metadata": {},
   "outputs": [],
   "source": []
  },
  {
   "cell_type": "code",
   "execution_count": null,
   "id": "85849418",
   "metadata": {},
   "outputs": [],
   "source": []
  },
  {
   "cell_type": "code",
   "execution_count": null,
   "id": "39fe6338",
   "metadata": {},
   "outputs": [],
   "source": []
  }
 ],
 "metadata": {
  "kernelspec": {
   "display_name": "Python 3 (ipykernel)",
   "language": "python",
   "name": "python3"
  },
  "language_info": {
   "codemirror_mode": {
    "name": "ipython",
    "version": 3
   },
   "file_extension": ".py",
   "mimetype": "text/x-python",
   "name": "python",
   "nbconvert_exporter": "python",
   "pygments_lexer": "ipython3",
   "version": "3.10.10"
  }
 },
 "nbformat": 4,
 "nbformat_minor": 5
}
