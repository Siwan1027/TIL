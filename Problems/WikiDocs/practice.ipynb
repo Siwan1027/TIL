{
 "cells": [
  {
   "cell_type": "code",
   "execution_count": 14,
   "id": "aad112d3",
   "metadata": {},
   "outputs": [
    {
     "data": {
      "text/plain": [
       "[0.25, 2.0, 0.2, 1.0, 2.0, 0.25]"
      ]
     },
     "execution_count": 14,
     "metadata": {},
     "output_type": "execute_result"
    }
   ],
   "source": [
    "def solution(dots):\n",
    "    result = 0\n",
    "    result_list = list()\n",
    "    for x in range(0,4) :\n",
    "        for y in range(x+1,4):\n",
    "            m = abs((dots[x][1]-dots[y][1]))/abs((dots[x][0]-dots[y][0]))\n",
    "            result_list.append(m)\n",
    "    return result_list\n",
    "solution([[1, 4], [9, 2], [3, 8], [11, 6]])"
   ]
  },
  {
   "cell_type": "code",
   "execution_count": 10,
   "id": "e9b361e1",
   "metadata": {},
   "outputs": [],
   "source": [
    "def tax(money):\n",
    "    if money <= 1200 :\n",
    "        return money * 0.06\n",
    "    elif money <= 4600 :\n",
    "        return (72 + ((money - 1200) * 0.15))\n",
    "    else :\n",
    "        return (582 + ((money - 4600) * (0.35)))"
   ]
  },
  {
   "cell_type": "code",
   "execution_count": 18,
   "id": "bbaf37b2",
   "metadata": {},
   "outputs": [
    {
     "data": {
      "text/plain": [
       "120000.0"
      ]
     },
     "execution_count": 18,
     "metadata": {},
     "output_type": "execute_result"
    }
   ],
   "source": [
    "((100/60)*600)*120"
   ]
  },
  {
   "cell_type": "code",
   "execution_count": 36,
   "id": "26620e6d",
   "metadata": {},
   "outputs": [
    {
     "ename": "TypeError",
     "evalue": "'int' object is not iterable",
     "output_type": "error",
     "traceback": [
      "\u001b[0;31m---------------------------------------------------------------------------\u001b[0m",
      "\u001b[0;31mTypeError\u001b[0m                                 Traceback (most recent call last)",
      "Cell \u001b[0;32mIn[36], line 26\u001b[0m\n\u001b[1;32m     24\u001b[0m                 \u001b[38;5;28;01mcontinue\u001b[39;00m\n\u001b[1;32m     25\u001b[0m     \u001b[38;5;28;01mreturn\u001b[39;00m location\n\u001b[0;32m---> 26\u001b[0m \u001b[43msolution\u001b[49m\u001b[43m(\u001b[49m\u001b[43m[\u001b[49m\u001b[38;5;124;43m\"\u001b[39;49m\u001b[38;5;124;43mup\u001b[39;49m\u001b[38;5;124;43m\"\u001b[39;49m\u001b[43m,\u001b[49m\u001b[43m \u001b[49m\u001b[38;5;124;43m\"\u001b[39;49m\u001b[38;5;124;43mup\u001b[39;49m\u001b[38;5;124;43m\"\u001b[39;49m\u001b[43m,\u001b[49m\u001b[43m \u001b[49m\u001b[38;5;124;43m\"\u001b[39;49m\u001b[38;5;124;43mdown\u001b[39;49m\u001b[38;5;124;43m\"\u001b[39;49m\u001b[43m,\u001b[49m\u001b[43m \u001b[49m\u001b[38;5;124;43m\"\u001b[39;49m\u001b[38;5;124;43mdown\u001b[39;49m\u001b[38;5;124;43m\"\u001b[39;49m\u001b[43m,\u001b[49m\u001b[43m \u001b[49m\u001b[38;5;124;43m\"\u001b[39;49m\u001b[38;5;124;43mup\u001b[39;49m\u001b[38;5;124;43m\"\u001b[39;49m\u001b[43m,\u001b[49m\u001b[43m \u001b[49m\u001b[38;5;124;43m\"\u001b[39;49m\u001b[38;5;124;43mup\u001b[39;49m\u001b[38;5;124;43m\"\u001b[39;49m\u001b[43m,\u001b[49m\u001b[43m \u001b[49m\u001b[38;5;124;43m\"\u001b[39;49m\u001b[38;5;124;43mdown\u001b[39;49m\u001b[38;5;124;43m\"\u001b[39;49m\u001b[43m,\u001b[49m\u001b[43m \u001b[49m\u001b[38;5;124;43m\"\u001b[39;49m\u001b[38;5;124;43mdown\u001b[39;49m\u001b[38;5;124;43m\"\u001b[39;49m\u001b[43m]\u001b[49m\u001b[43m,\u001b[49m\u001b[43m[\u001b[49m\u001b[38;5;241;43m5\u001b[39;49m\u001b[43m,\u001b[49m\u001b[43m \u001b[49m\u001b[38;5;241;43m5\u001b[39;49m\u001b[43m]\u001b[49m\u001b[43m)\u001b[49m\n",
      "Cell \u001b[0;32mIn[36], line 22\u001b[0m, in \u001b[0;36msolution\u001b[0;34m(keyinput, board)\u001b[0m\n\u001b[1;32m     20\u001b[0m \u001b[38;5;28;01melse\u001b[39;00m :\n\u001b[1;32m     21\u001b[0m     \u001b[38;5;28;01mif\u001b[39;00m location[\u001b[38;5;241m1\u001b[39m] \u001b[38;5;241m<\u001b[39m max_y :\n\u001b[0;32m---> 22\u001b[0m         location \u001b[38;5;241m+\u001b[39m\u001b[38;5;241m=\u001b[39m \u001b[38;5;241m1\u001b[39m\n\u001b[1;32m     23\u001b[0m     \u001b[38;5;28;01melse\u001b[39;00m:\n\u001b[1;32m     24\u001b[0m         \u001b[38;5;28;01mcontinue\u001b[39;00m\n",
      "\u001b[0;31mTypeError\u001b[0m: 'int' object is not iterable"
     ]
    }
   ],
   "source": [
    "def solution(keyinput, board):\n",
    "    location = [0, 0]\n",
    "    max_x, max_y = board[0]//2, board[1]//2\n",
    "    for dir in keyinput :\n",
    "        if dir == 'left':\n",
    "            if location[0] > max_x:\n",
    "                location[0] += 1\n",
    "            else:\n",
    "                continue\n",
    "        elif dir == 'right':\n",
    "            if location[0] > -max_x:\n",
    "                location[0] -= 1\n",
    "            else:\n",
    "                continue\n",
    "        elif dir == 'down':\n",
    "            if location[1] > -max_y :\n",
    "                location[1] -= 1\n",
    "            else:\n",
    "                continue\n",
    "        else :\n",
    "            if location[1] < max_y :\n",
    "                location += 1\n",
    "            else:\n",
    "                continue\n",
    "    return location\n",
    "solution([\"up\", \"up\", \"down\", \"down\", \"up\", \"up\", \"down\", \"down\"],[5, 5])"
   ]
  }
 ],
 "metadata": {
  "kernelspec": {
   "display_name": "Python 3 (ipykernel)",
   "language": "python",
   "name": "python3"
  },
  "language_info": {
   "codemirror_mode": {
    "name": "ipython",
    "version": 3
   },
   "file_extension": ".py",
   "mimetype": "text/x-python",
   "name": "python",
   "nbconvert_exporter": "python",
   "pygments_lexer": "ipython3",
   "version": "3.10.10"
  }
 },
 "nbformat": 4,
 "nbformat_minor": 5
}
