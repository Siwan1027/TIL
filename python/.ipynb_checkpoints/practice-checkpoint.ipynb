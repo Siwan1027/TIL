{
 "cells": [
  {
   "cell_type": "code",
   "execution_count": 14,
   "id": "aad112d3",
   "metadata": {},
   "outputs": [
    {
     "data": {
      "text/plain": [
       "[0.25, 2.0, 0.2, 1.0, 2.0, 0.25]"
      ]
     },
     "execution_count": 14,
     "metadata": {},
     "output_type": "execute_result"
    }
   ],
   "source": [
    "def solution(dots):\n",
    "    result = 0\n",
    "    result_list = list()\n",
    "    for x in range(0,4) :\n",
    "        for y in range(x+1,4):\n",
    "            m = abs((dots[x][1]-dots[y][1]))/abs((dots[x][0]-dots[y][0]))\n",
    "            result_list.append(m)\n",
    "    return result_list\n",
    "solution([[1, 4], [9, 2], [3, 8], [11, 6]])"
   ]
  }
 ],
 "metadata": {
  "kernelspec": {
   "display_name": "Python 3 (ipykernel)",
   "language": "python",
   "name": "python3"
  },
  "language_info": {
   "codemirror_mode": {
    "name": "ipython",
    "version": 3
   },
   "file_extension": ".py",
   "mimetype": "text/x-python",
   "name": "python",
   "nbconvert_exporter": "python",
   "pygments_lexer": "ipython3",
   "version": "3.10.10"
  }
 },
 "nbformat": 4,
 "nbformat_minor": 5
}
